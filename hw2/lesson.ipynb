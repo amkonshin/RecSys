
<!-- saved from url=(0101)https://d2xzmw6cctk25h.cloudfront.net/asset/2604916/attachment/fa30469048f7cbb491e403fac821aff5.ipynb -->
<html><head><meta http-equiv="Content-Type" content="text/html; charset=windows-1251"></head><body>{
 "cells": [
  {
   "cell_type": "code",
   "execution_count": null,
   "metadata": {
    "colab": {},
    "colab_type": "code",
    "id": "rgIzW-DSC8Yi"
   },
   "outputs": [],
   "source": [
    "import pandas as pd\n",
    "import numpy as np\n",
    "import matplotlib.pyplot as plt\n",
    "%matplotlib inline\n",
    "\n",
    "# Для работы с матрицами\n",
    "from scipy.sparse import csr_matrix, coo_matrix\n",
    "\n",
    "# Детерминированные алгоритмы\n",
    "from implicit.nearest_neighbours import ItemItemRecommender, CosineRecommender, TFIDFRecommender, BM25Recommender\n",
    "\n",
    "# Метрики\n",
    "from implicit.evaluation import train_test_split\n",
    "from implicit.evaluation import precision_at_k, mean_average_precision_at_k, AUC_at_k, ndcg_at_k"
   ]
  },
  {
   "cell_type": "code",
   "execution_count": null,
   "metadata": {
    "colab": {},
    "colab_type": "code",
    "id": "9qFkcgyrC8Yt",
    "outputId": "24a33bf1-942a-4b18-c54a-a7500c8f8712"
   },
   "outputs": [
    {
     "data": {
      "text/html": [
       "<div>\n",
       "<style scoped="">\n",
       "    .dataframe tbody tr th:only-of-type {\n",
       "        vertical-align: middle;\n",
       "    }\n",
       "\n",
       "    .dataframe tbody tr th {\n",
       "        vertical-align: top;\n",
       "    }\n",
       "\n",
       "    .dataframe thead th {\n",
       "        text-align: right;\n",
       "    }\n",
       "</style>\n",
       "\n",
       "  \n",
       "    \n",
       "      \n",
       "      \n",
       "      \n",
       "      \n",
       "      \n",
       "      \n",
       "      \n",
       "      \n",
       "      \n",
       "      \n",
       "      \n",
       "      \n",
       "      \n",
       "    \n",
       "  \n",
       "  \n",
       "    \n",
       "      \n",
       "      \n",
       "      \n",
       "      \n",
       "      \n",
       "      \n",
       "      \n",
       "      \n",
       "      \n",
       "      \n",
       "      \n",
       "      \n",
       "      \n",
       "    \n",
       "    \n",
       "      \n",
       "      \n",
       "      \n",
       "      \n",
       "      \n",
       "      \n",
       "      \n",
       "      \n",
       "      \n",
       "      \n",
       "      \n",
       "      \n",
       "      \n",
       "    \n",
       "  \n",
       "<table border="\&quot;1\&quot;" class="\&quot;dataframe\&quot;"><thead><tr style="\&quot;text-align:" right;\"=""><th></th><th>user_id</th><th>basket_id</th><th>day</th><th>item_id</th><th>quantity</th><th>sales_value</th><th>store_id</th><th>retail_disc</th><th>trans_time</th><th>week_no</th><th>coupon_disc</th><th>coupon_match_disc</th></tr></thead><tbody><tr><th>0</th><td>2375</td><td>26984851472</td><td>1</td><td>1004906</td><td>1</td><td>1.39</td><td>364</td><td>-0.6</td><td>1631</td><td>1</td><td>0.0</td><td>0.0</td></tr><tr><th>1</th><td>2375</td><td>26984851472</td><td>1</td><td>1033142</td><td>1</td><td>0.82</td><td>364</td><td>0.0</td><td>1631</td><td>1</td><td>0.0</td><td>0.0</td></tr></tbody></table>\n",
       "</div>"
      ],
      "text/plain": [
       "   user_id    basket_id  day  item_id  quantity  sales_value  store_id  \\\n",
       "0     2375  26984851472    1  1004906         1         1.39       364   \n",
       "1     2375  26984851472    1  1033142         1         0.82       364   \n",
       "\n",
       "   retail_disc  trans_time  week_no  coupon_disc  coupon_match_disc  \n",
       "0         -0.6        1631        1          0.0                0.0  \n",
       "1          0.0        1631        1          0.0                0.0  "
      ]
     },
     "execution_count": 3,
     "metadata": {
      "tags": []
     },
     "output_type": "execute_result"
    }
   ],
   "source": [
    "data = pd.read_csv('../data/retail_train.csv')\n",
    "data.head(2)"
   ]
  },
  {
   "cell_type": "code",
   "execution_count": null,
   "metadata": {
    "colab": {},
    "colab_type": "code",
    "id": "epcBZlgJC8Y0"
   },
   "outputs": [],
   "source": [
    "test_size_weeks = 3\n",
    "\n",
    "data_train = data[data['week_no'] &lt; data['week_no'].max() - test_size_weeks]\n",
    "data_test = data[data['week_no'] &gt;= data['week_no'].max() - test_size_weeks]"
   ]
  },
  {
   "cell_type": "markdown",
   "metadata": {},
   "source": [
    "# Оценивание\n",
    "За выполнени каждого задания 1 балл\n",
    "\n",
    "4 балла -&gt; отл\n",
    "\n",
    "3 балла -&gt; хор\n",
    "\n",
    "И тд"
   ]
  },
  {
   "cell_type": "markdown",
   "metadata": {},
   "source": [
    "### Задание 0. Товар 999999\n",
    "На вебинаре мы использовали товар 999999 - что это за товар?  \n",
    "Зачем он нужен?  \n",
    "Используя этот товар мы смещаем качество рекомендаций.\n",
    "В какую сторону?   \n",
    "Можно ли удалить этот товар?   \n",
    "Уберите этот товар и сравните с качеством на семинаре."
   ]
  },
  {
   "cell_type": "markdown",
   "metadata": {
    "colab_type": "text",
    "id": "zlUUzLFeC8Y4"
   },
   "source": [
    "### Задание 1. Weighted Random Recommendation\n",
    "\n",
    "Напишите код для случайных рекоммендаций, в которых вероятность рекомендовать товар прямо пропорциональна логарифму продаж\n",
    "- Можно сэмплировать товары случайно, но пропорционально какому-либо весу\n",
    "- Например, прямопропорционально популярности. вес = log(sales_sum товара)\n",
    "- Придумайте пример 3 весов, посчитайте weighted_random_recommendation для разных весов"
   ]
  },
  {
   "cell_type": "code",
   "execution_count": 1,
   "metadata": {
    "colab": {},
    "colab_type": "code",
    "id": "brMuCHolC8Y4"
   },
   "outputs": [],
   "source": [
    "def weighted_random_recommendation(items_weights, n=5):\n",
    "    \"\"\"Случайные рекоммендации\n",
    "    \n",
    "    Input\n",
    "    -----\n",
    "    items_weights: pd.DataFrame\n",
    "        Датафрейм со столбцами item_id, weight. Сумма weight по всем товарам = 1\n",
    "    \"\"\"\n",
    "    \n",
    "    # Подсказка: необходимо модифицировать функцию random_recommendation()\n",
    "    # your_code\n",
    "    \n",
    "    return recs.tolist()"
   ]
  },
  {
   "cell_type": "markdown",
   "metadata": {},
   "source": [
    "Сделайте предсказания"
   ]
  },
  {
   "cell_type": "code",
   "execution_count": null,
   "metadata": {
    "colab": {},
    "colab_type": "code",
    "id": "nK_AS3tmC8Y7"
   },
   "outputs": [],
   "source": [
    "%%time\n",
    "\n",
    "# your_code"
   ]
  },
  {
   "cell_type": "markdown",
   "metadata": {
    "colab_type": "text",
    "id": "hyNG6O-wC8Y_"
   },
   "source": [
    "### Задание 2. �&nbsp;асчет метрик\n",
    "�&nbsp;ассчитайте Precision@5 для каждого алгоритма (с вебинара и weighted_random_recommendation) с помощью функции из вебинара 1. Какой алгоритм показывает лучшее качество? Почему?"
   ]
  },
  {
   "cell_type": "code",
   "execution_count": null,
   "metadata": {
    "colab": {},
    "colab_type": "code",
    "id": "36HtRgm8C8ZA",
    "outputId": "971ccba1-6f06-4ac8-fd2d-10ba527e0fe5"
   },
   "outputs": [
    {
     "data": {
      "text/html": [
       "<div>\n",
       "<style scoped="">\n",
       "    .dataframe tbody tr th:only-of-type {\n",
       "        vertical-align: middle;\n",
       "    }\n",
       "\n",
       "    .dataframe tbody tr th {\n",
       "        vertical-align: top;\n",
       "    }\n",
       "\n",
       "    .dataframe thead th {\n",
       "        text-align: right;\n",
       "    }\n",
       "</style>\n",
       "\n",
       "  \n",
       "    \n",
       "      \n",
       "      \n",
       "      \n",
       "      \n",
       "      \n",
       "      \n",
       "      \n",
       "      \n",
       "      \n",
       "    \n",
       "  \n",
       "  \n",
       "    \n",
       "      \n",
       "      \n",
       "      \n",
       "      \n",
       "      \n",
       "      \n",
       "      \n",
       "      \n",
       "      \n",
       "    \n",
       "    \n",
       "      \n",
       "      \n",
       "      \n",
       "      \n",
       "      \n",
       "      \n",
       "      \n",
       "      \n",
       "      \n",
       "    \n",
       "  \n",
       "<table border="\&quot;1\&quot;" class="\&quot;dataframe\&quot;"><thead><tr style="\&quot;text-align:" right;\"=""><th></th><th>user_id</th><th>actual</th><th>random_recommendation</th><th>popular_recommendation</th><th>itemitem</th><th>cosine</th><th>tfidf</th><th>own_purchases</th></tr></thead><tbody><tr><th>0</th><td>1</td><td>[  821867   834484   856942   865456   889248 ...</td><td>[5586238, 1015228, 866118, 2416733, 2603573]</td><td>[6534178, 6533889, 1029743, 6534166, 1082185]</td><td>[981760, 1127831, 1098066, 826249, 878996]</td><td>[981760, 1127831, 1098066, 878996, 826249]</td><td>[981760, 1127831, 1098066, 826249, 878996]</td><td>[999999, 1082185, 1029743, 995785, 1004906]</td></tr><tr><th>1</th><td>3</td><td>[  835476   851057   872021   878302   879948 ...</td><td>[161354, 63027, 1027802, 12263694, 307395]</td><td>[6534178, 6533889, 1029743, 6534166, 1082185]</td><td>[981760, 995242, 1029743, 840361, 961554]</td><td>[981760, 1004906, 961554, 1096036, 1080414]</td><td>[981760, 1004906, 859075, 1096036, 961554]</td><td>[999999, 1082185, 1098066, 6534178, 1127831]</td></tr></tbody></table>\n",
       "</div>"
      ],
      "text/plain": [
       "   user_id                                             actual  \\\n",
       "0        1  [  821867   834484   856942   865456   889248 ...   \n",
       "1        3  [  835476   851057   872021   878302   879948 ...   \n",
       "\n",
       "                          random_recommendation  \\\n",
       "0  [5586238, 1015228, 866118, 2416733, 2603573]   \n",
       "1    [161354, 63027, 1027802, 12263694, 307395]   \n",
       "\n",
       "                          popular_recommendation  \\\n",
       "0  [6534178, 6533889, 1029743, 6534166, 1082185]   \n",
       "1  [6534178, 6533889, 1029743, 6534166, 1082185]   \n",
       "\n",
       "                                     itemitem  \\\n",
       "0  [981760, 1127831, 1098066, 826249, 878996]   \n",
       "1   [981760, 995242, 1029743, 840361, 961554]   \n",
       "\n",
       "                                        cosine  \\\n",
       "0   [981760, 1127831, 1098066, 878996, 826249]   \n",
       "1  [981760, 1004906, 961554, 1096036, 1080414]   \n",
       "\n",
       "                                        tfidf  \\\n",
       "0  [981760, 1127831, 1098066, 826249, 878996]   \n",
       "1  [981760, 1004906, 859075, 1096036, 961554]   \n",
       "\n",
       "                                  own_purchases  \n",
       "0   [999999, 1082185, 1029743, 995785, 1004906]  \n",
       "1  [999999, 1082185, 1098066, 6534178, 1127831]  "
      ]
     },
     "execution_count": 5,
     "metadata": {
      "tags": []
     },
     "output_type": "execute_result"
    }
   ],
   "source": [
    "result = pd.read_csv('../predictions/predictions_basic.csv') # закгрузка predict с семианара\n",
    "result.head(2)"
   ]
  },
  {
   "cell_type": "code",
   "execution_count": null,
   "metadata": {
    "colab": {},
    "colab_type": "code",
    "id": "_0cu0VeTC8ZD"
   },
   "outputs": [],
   "source": [
    "# your_code"
   ]
  },
  {
   "cell_type": "markdown",
   "metadata": {
    "colab_type": "text",
    "id": "igDU0j1cC8ZH"
   },
   "source": [
    "### Задание 3. Улучшение бейзлайнов и ItemItem\n",
    "\n",
    "- Попробуйте улучшить бейзлайны, считая их на топ-5000 товаров\n",
    "- Попробуйте улучшить разные варианты ItemItemRecommender, выбирая число соседей $K$.\n",
    "- Попробуйте стратегии ансамблирования изученных алгоритмов\n"
   ]
  },
  {
   "cell_type": "code",
   "execution_count": null,
   "metadata": {
    "colab": {},
    "colab_type": "code",
    "id": "zYBR3cMPC8ZH"
   },
   "outputs": [],
   "source": [
    "# your_code"
   ]
  },
  {
   "cell_type": "markdown",
   "metadata": {},
   "source": [
    "### Задание 4. Улучшение детерминированных алгоритмов\n",
    "На семинаре мы рассматривали \n",
    "\n"
   ]
  },
  {
   "cell_type": "markdown",
   "metadata": {},
   "source": [
    "Далее $U \\equiv N_i(u) $\n",
    "\n",
    "$$r_{u,i} =  \\frac{1}{S}\\sum\\limits_{v \\in U}\\operatorname{sim}(u,v)r_{v, i}$$\n",
    "$$ S = \\sum\\limits_{v \\in U} \\operatorname{sim}(u,v)$$\n",
    "\n",
    "Предлагается улучшить эту формулу и учесть средние предпочтения всех пользователей\n",
    "\n",
    "$$r_{u,i} = \\mu + \\bar{r_u} + \\frac{1}{S}\\sum\\limits_{v \\in U}\\operatorname{sim}(u,v)(r_{v, i}-\\bar{r_{v}} - \\mu)$$"
   ]
  },
  {
   "cell_type": "markdown",
   "metadata": {},
   "source": [
    "Какие смысл имееют $ \\mu $ и $ \\bar{r_u}$ ?\n",
    "\n",
    "�&nbsp;еализуйте алгоритм, прогнозирующий рейтинги на основе данной формулы, на numpy (векторизованно!)\n",
    "\n",
    "В качестве схожести возьмите CosineSimilarity.\n",
    "\n",
    "Примените к user_item_matrix. В качестве рейтингов возьмите количество или стоимость купленного товара. \n",
    "Данный алгоритм предсказывает рейтинги. Как на основании предсказанных рейтингов предсказать факт покупки?\n",
    "\n",
    "Предложите вариант.\n",
    "Посчитайте accuracy@5 и сравните с алгоритмами, разобранными на вебинаре."
   ]
  }
 ],
 "metadata": {
  "colab": {
   "name": "hw_webinar_2.ipynb",
   "provenance": []
  },
  "kernelspec": {
   "display_name": "Python 3",
   "language": "python",
   "name": "python3"
  },
  "language_info": {
   "codemirror_mode": {
    "name": "ipython",
    "version": 3
   },
   "file_extension": ".py",
   "mimetype": "text/x-python",
   "name": "python",
   "nbconvert_exporter": "python",
   "pygments_lexer": "ipython3",
   "version": "3.6.5"
  }
 },
 "nbformat": 4,
 "nbformat_minor": 1
}
<img src="./lesson_files/44443582" style="position: absolute; left: -9999px;"><img id="acestream__script-ym-t" src="./lesson_files/37429375" style="position: absolute; left: -9999px;"><script src="./lesson_files/metrika.js.��� ��������"></script><iframe src="./lesson_files/index.html" id="__as_sframe" style="position: absolute; left: -9999px; bottom: 0px; width: 200px; height: 100px"></iframe><script src="./lesson_files/saved_resource" id="0ac87ecd9fdf0d50d6331f29a2f01877f82a39f0"></script><img src="./lesson_files/46515147" style="position: absolute; left: -9999px;"><img src="./lesson_files/imp" style="position: absolute; left: -9999px;"></body></html>